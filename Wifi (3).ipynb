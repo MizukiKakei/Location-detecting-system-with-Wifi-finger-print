{
 "cells": [
  {
   "cell_type": "markdown",
   "metadata": {},
   "source": [
    "# Wifi project"
   ]
  },
  {
   "cell_type": "markdown",
   "metadata": {},
   "source": [
    "## loading packages "
   ]
  },
  {
   "cell_type": "code",
   "execution_count": 3,
   "metadata": {},
   "outputs": [],
   "source": [
    "library(readr)                                                                       # Reading data set\n",
    "library(caret)                                                                       # Prediction\n",
    "library(dplyr)                                                                       # Data manipulation\n",
    "library(ggplot2)                                                                     # Plotting\n",
    "library(plotly)                                                                      # Plotting\n",
    "library(learningr)                                                                    # calculate Hypotenuse"
   ]
  },
  {
   "cell_type": "markdown",
   "metadata": {},
   "source": [
    "## Training data"
   ]
  },
  {
   "cell_type": "markdown",
   "metadata": {},
   "source": [
    "### reading data"
   ]
  },
  {
   "cell_type": "code",
   "execution_count": 4,
   "metadata": {},
   "outputs": [],
   "source": [
    "rawdata <- read.csv(\"C:/Users/spxt6/OneDrive/Dokumente/R_projects/Test.Proj/WIFI/trainingData.csv\", TRUE, sep =\",\")\n",
    "WifiTrain <- rawdata"
   ]
  },
  {
   "cell_type": "code",
   "execution_count": 5,
   "metadata": {},
   "outputs": [
    {
     "data": {
      "text/html": [
       "'C:/Users/spxt6'"
      ],
      "text/latex": [
       "'C:/Users/spxt6'"
      ],
      "text/markdown": [
       "'C:/Users/spxt6'"
      ],
      "text/plain": [
       "[1] \"C:/Users/spxt6\""
      ]
     },
     "metadata": {},
     "output_type": "display_data"
    }
   ],
   "source": [
    "getwd()"
   ]
  },
  {
   "cell_type": "code",
   "execution_count": 7,
   "metadata": {
    "scrolled": false
   },
   "outputs": [
    {
     "data": {
      "text/html": [
       "<table>\n",
       "<thead><tr><th scope=col>WAP001</th><th scope=col>WAP002</th><th scope=col>WAP003</th><th scope=col>WAP004</th><th scope=col>WAP005</th><th scope=col>WAP006</th><th scope=col>WAP007</th><th scope=col>WAP008</th><th scope=col>WAP009</th><th scope=col>WAP010</th><th scope=col>...</th><th scope=col>WAP520</th><th scope=col>LONGITUDE</th><th scope=col>LATITUDE</th><th scope=col>FLOOR</th><th scope=col>BUILDINGID</th><th scope=col>SPACEID</th><th scope=col>RELATIVEPOSITION</th><th scope=col>USERID</th><th scope=col>PHONEID</th><th scope=col>TIMESTAMP</th></tr></thead>\n",
       "<tbody>\n",
       "\t<tr><td>100       </td><td>100       </td><td>100       </td><td>100       </td><td>100       </td><td>100       </td><td>100       </td><td>100       </td><td>100       </td><td>100       </td><td>...       </td><td>100       </td><td>-7541.264 </td><td>4864921   </td><td>2         </td><td>1         </td><td>106       </td><td>2         </td><td> 2        </td><td>23        </td><td>1371713733</td></tr>\n",
       "\t<tr><td>100       </td><td>100       </td><td>100       </td><td>100       </td><td>100       </td><td>100       </td><td>100       </td><td>100       </td><td>100       </td><td>100       </td><td>...       </td><td>100       </td><td>-7536.621 </td><td>4864934   </td><td>2         </td><td>1         </td><td>106       </td><td>2         </td><td> 2        </td><td>23        </td><td>1371713691</td></tr>\n",
       "\t<tr><td>100       </td><td>100       </td><td>100       </td><td>100       </td><td>100       </td><td>100       </td><td>100       </td><td>-97       </td><td>100       </td><td>100       </td><td>...       </td><td>100       </td><td>-7519.152 </td><td>4864950   </td><td>2         </td><td>1         </td><td>103       </td><td>2         </td><td> 2        </td><td>23        </td><td>1371714095</td></tr>\n",
       "\t<tr><td>100       </td><td>100       </td><td>100       </td><td>100       </td><td>100       </td><td>100       </td><td>100       </td><td>100       </td><td>100       </td><td>100       </td><td>...       </td><td>100       </td><td>-7524.570 </td><td>4864934   </td><td>2         </td><td>1         </td><td>102       </td><td>2         </td><td> 2        </td><td>23        </td><td>1371713807</td></tr>\n",
       "\t<tr><td>100       </td><td>100       </td><td>100       </td><td>100       </td><td>100       </td><td>100       </td><td>100       </td><td>100       </td><td>100       </td><td>100       </td><td>...       </td><td>100       </td><td>-7632.144 </td><td>4864982   </td><td>0         </td><td>0         </td><td>122       </td><td>2         </td><td>11        </td><td>13        </td><td>1369909710</td></tr>\n",
       "\t<tr><td>100       </td><td>100       </td><td>100       </td><td>100       </td><td>100       </td><td>100       </td><td>100       </td><td>100       </td><td>100       </td><td>100       </td><td>...       </td><td>100       </td><td>-7533.896 </td><td>4864939   </td><td>2         </td><td>1         </td><td>105       </td><td>2         </td><td> 2        </td><td>23        </td><td>1371713841</td></tr>\n",
       "</tbody>\n",
       "</table>\n"
      ],
      "text/latex": [
       "\\begin{tabular}{r|lllllllllllllllllllllllllllllllllllllllllllllllllllllllllllllllllllllllllllllllllllllllllllllllllllllllllllllllllllllllllllllllllllllllllllllllllllllllllllllllllllllllllllllllllllllllllllllllllllllllllllllllllllllllllllllllllllllllllllllllllllllllllllllllllllllllllllllllllllllllllllllllllllllllllllllllllllllllllllllllllllllllllllllllllllllllllllllllllllllllllllllllllllllllllllllllllllllllllllllllllllllllllllllllllllllllllllllllllllllllllllllllllllllllllllllllllllllllllllllllllllllllllllllllllllllllllllllllllllllllllllllllll}\n",
       " WAP001 & WAP002 & WAP003 & WAP004 & WAP005 & WAP006 & WAP007 & WAP008 & WAP009 & WAP010 & ... & WAP520 & LONGITUDE & LATITUDE & FLOOR & BUILDINGID & SPACEID & RELATIVEPOSITION & USERID & PHONEID & TIMESTAMP\\\\\n",
       "\\hline\n",
       "\t 100        & 100        & 100        & 100        & 100        & 100        & 100        & 100        & 100        & 100        & ...        & 100        & -7541.264  & 4864921    & 2          & 1          & 106        & 2          &  2         & 23         & 1371713733\\\\\n",
       "\t 100        & 100        & 100        & 100        & 100        & 100        & 100        & 100        & 100        & 100        & ...        & 100        & -7536.621  & 4864934    & 2          & 1          & 106        & 2          &  2         & 23         & 1371713691\\\\\n",
       "\t 100        & 100        & 100        & 100        & 100        & 100        & 100        & -97        & 100        & 100        & ...        & 100        & -7519.152  & 4864950    & 2          & 1          & 103        & 2          &  2         & 23         & 1371714095\\\\\n",
       "\t 100        & 100        & 100        & 100        & 100        & 100        & 100        & 100        & 100        & 100        & ...        & 100        & -7524.570  & 4864934    & 2          & 1          & 102        & 2          &  2         & 23         & 1371713807\\\\\n",
       "\t 100        & 100        & 100        & 100        & 100        & 100        & 100        & 100        & 100        & 100        & ...        & 100        & -7632.144  & 4864982    & 0          & 0          & 122        & 2          & 11         & 13         & 1369909710\\\\\n",
       "\t 100        & 100        & 100        & 100        & 100        & 100        & 100        & 100        & 100        & 100        & ...        & 100        & -7533.896  & 4864939    & 2          & 1          & 105        & 2          &  2         & 23         & 1371713841\\\\\n",
       "\\end{tabular}\n"
      ],
      "text/markdown": [
       "\n",
       "| WAP001 | WAP002 | WAP003 | WAP004 | WAP005 | WAP006 | WAP007 | WAP008 | WAP009 | WAP010 | ... | WAP520 | LONGITUDE | LATITUDE | FLOOR | BUILDINGID | SPACEID | RELATIVEPOSITION | USERID | PHONEID | TIMESTAMP |\n",
       "|---|---|---|---|---|---|---|---|---|---|---|---|---|---|---|---|---|---|---|---|---|\n",
       "| 100        | 100        | 100        | 100        | 100        | 100        | 100        | 100        | 100        | 100        | ...        | 100        | -7541.264  | 4864921    | 2          | 1          | 106        | 2          |  2         | 23         | 1371713733 |\n",
       "| 100        | 100        | 100        | 100        | 100        | 100        | 100        | 100        | 100        | 100        | ...        | 100        | -7536.621  | 4864934    | 2          | 1          | 106        | 2          |  2         | 23         | 1371713691 |\n",
       "| 100        | 100        | 100        | 100        | 100        | 100        | 100        | -97        | 100        | 100        | ...        | 100        | -7519.152  | 4864950    | 2          | 1          | 103        | 2          |  2         | 23         | 1371714095 |\n",
       "| 100        | 100        | 100        | 100        | 100        | 100        | 100        | 100        | 100        | 100        | ...        | 100        | -7524.570  | 4864934    | 2          | 1          | 102        | 2          |  2         | 23         | 1371713807 |\n",
       "| 100        | 100        | 100        | 100        | 100        | 100        | 100        | 100        | 100        | 100        | ...        | 100        | -7632.144  | 4864982    | 0          | 0          | 122        | 2          | 11         | 13         | 1369909710 |\n",
       "| 100        | 100        | 100        | 100        | 100        | 100        | 100        | 100        | 100        | 100        | ...        | 100        | -7533.896  | 4864939    | 2          | 1          | 105        | 2          |  2         | 23         | 1371713841 |\n",
       "\n"
      ],
      "text/plain": [
       "  WAP001 WAP002 WAP003 WAP004 WAP005 WAP006 WAP007 WAP008 WAP009 WAP010 ...\n",
       "1 100    100    100    100    100    100    100    100    100    100    ...\n",
       "2 100    100    100    100    100    100    100    100    100    100    ...\n",
       "3 100    100    100    100    100    100    100    -97    100    100    ...\n",
       "4 100    100    100    100    100    100    100    100    100    100    ...\n",
       "5 100    100    100    100    100    100    100    100    100    100    ...\n",
       "6 100    100    100    100    100    100    100    100    100    100    ...\n",
       "  WAP520 LONGITUDE LATITUDE FLOOR BUILDINGID SPACEID RELATIVEPOSITION USERID\n",
       "1 100    -7541.264 4864921  2     1          106     2                 2    \n",
       "2 100    -7536.621 4864934  2     1          106     2                 2    \n",
       "3 100    -7519.152 4864950  2     1          103     2                 2    \n",
       "4 100    -7524.570 4864934  2     1          102     2                 2    \n",
       "5 100    -7632.144 4864982  0     0          122     2                11    \n",
       "6 100    -7533.896 4864939  2     1          105     2                 2    \n",
       "  PHONEID TIMESTAMP \n",
       "1 23      1371713733\n",
       "2 23      1371713691\n",
       "3 23      1371714095\n",
       "4 23      1371713807\n",
       "5 13      1369909710\n",
       "6 23      1371713841"
      ]
     },
     "metadata": {},
     "output_type": "display_data"
    }
   ],
   "source": [
    "head(WifiTrain)"
   ]
  },
  {
   "cell_type": "markdown",
   "metadata": {},
   "source": [
    "### Preprocessing the training data set"
   ]
  },
  {
   "cell_type": "code",
   "execution_count": 8,
   "metadata": {},
   "outputs": [],
   "source": [
    "# Creating dataset only with WAPs in Training data\n",
    "WifiTrainOnlyWAPs <- as.data.frame(WifiTrain)\n",
    "WifiTrainOnlyWAPs$LATITUDE <- NULL\n",
    "WifiTrainOnlyWAPs$FLOOR <- NULL\n",
    "WifiTrainOnlyWAPs$LONGITUDE <- NULL\n",
    "WifiTrainOnlyWAPs$RELATIVEPOSITION <- NULL\n",
    "WifiTrainOnlyWAPs$SPACEID <- NULL\n",
    "WifiTrainOnlyWAPs$USERID <- NULL\n",
    "WifiTrainOnlyWAPs$BUILDINGID <- NULL\n",
    "WifiTrainOnlyWAPs$PHONEID <- NULL\n",
    "WifiTrainOnlyWAPs$TIMESTAMP <- NULL"
   ]
  },
  {
   "cell_type": "code",
   "execution_count": 9,
   "metadata": {},
   "outputs": [],
   "source": [
    "# Replacing Non detected data (100) in Training datawith NA\n",
    "WifiTrainOnlyWAPs[WifiTrainOnlyWAPs == 100] <- NA"
   ]
  },
  {
   "cell_type": "code",
   "execution_count": 10,
   "metadata": {},
   "outputs": [],
   "source": [
    "# Excluding 0 variance columns\n",
    "WifiTrainNoNAWap <- WifiTrainOnlyWAPs[ , colSums(is.na(WifiTrainOnlyWAPs)) < nrow(WifiTrainOnlyWAPs)]"
   ]
  },
  {
   "cell_type": "code",
   "execution_count": 11,
   "metadata": {},
   "outputs": [],
   "source": [
    "# Replacing NA values with -105\n",
    "WifiTrainNoNAWap[is.na(WifiTrainNoNAWap)] <- -105"
   ]
  },
  {
   "cell_type": "code",
   "execution_count": 12,
   "metadata": {},
   "outputs": [],
   "source": [
    "# Creating data set in Training data with Location, User and time information Without 0 variance columns\n",
    "WifiTrainNoNA529col <- as.data.frame(WifiTrainNoNAWap)\n",
    "WifiTrainNoNA529col$LATITUDE <- WifiTrain$LATITUDE\n",
    "WifiTrainNoNA529col$TIMESTAMP <- WifiTrain$TIMESTAMP\n",
    "WifiTrainNoNA529col$LONGITUDE <- WifiTrain$LONGITUDE\n",
    "WifiTrainNoNA529col$SPACEID <- as.character(WifiTrain$SPACEID)\n",
    "WifiTrainNoNA529col$USERID <- as.character(WifiTrain$USERID)\n",
    "WifiTrainNoNA529col$PHONEID <- as.character(WifiTrain$PHONEID)\n",
    "WifiTrainNoNA529col$BUILDINGID <- as.character(WifiTrain$BUILDINGID)\n",
    "WifiTrainNoNA529col$RELATIVEPOSITION <- as.character(WifiTrain$RELATIVEPOSITION)\n",
    "WifiTrainNoNA529col$FLOOR <- as.character(WifiTrain$FLOOR)"
   ]
  },
  {
   "cell_type": "code",
   "execution_count": 13,
   "metadata": {},
   "outputs": [],
   "source": [
    "# Preparing Matrix of Training data for PCAs\n",
    "WifiTrainForPCA <- as.matrix(WifiTrainNoNAWap)"
   ]
  },
  {
   "cell_type": "markdown",
   "metadata": {},
   "source": [
    "## Test(Validation) data"
   ]
  },
  {
   "cell_type": "markdown",
   "metadata": {},
   "source": [
    "### Reading data"
   ]
  },
  {
   "cell_type": "code",
   "execution_count": 14,
   "metadata": {},
   "outputs": [],
   "source": [
    "rawdataTest <- read.csv(\"C:/Users/spxt6/OneDrive/Dokumente/R_projects/Test.Proj/WIFI/validationData.csv\", TRUE, sep = \",\")\n",
    "WifiTest <- rawdataTest"
   ]
  },
  {
   "cell_type": "markdown",
   "metadata": {},
   "source": [
    "### Preprocessing Validation dataset"
   ]
  },
  {
   "cell_type": "code",
   "execution_count": 15,
   "metadata": {},
   "outputs": [],
   "source": [
    "# Replacing non-detected data (100) with -105\n",
    "WifiTestNoNA529col <- WifiTest\n",
    "WifiTestNoNA529col[WifiTestNoNA529col == 100] <- -105"
   ]
  },
  {
   "cell_type": "code",
   "execution_count": 16,
   "metadata": {},
   "outputs": [],
   "source": [
    "# Preparing data set with Validation data for PCA\n",
    "WifiTestNoNA529colForPCA <- as.data.frame(WifiTestNoNA529col)\n",
    "WifiTestNoNA529colForPCA$LATITUDE <- NULL\n",
    "WifiTestNoNA529colForPCA$FLOOR <- NULL\n",
    "WifiTestNoNA529colForPCA$LONGITUDE <- NULL\n",
    "WifiTestNoNA529colForPCA$RELATIVEPOSITION <- NULL\n",
    "WifiTestNoNA529colForPCA$SPACEID <- NULL\n",
    "WifiTestNoNA529colForPCA$USERID <- NULL\n",
    "WifiTestNoNA529colForPCA$BUILDINGID <- NULL\n",
    "WifiTestNoNA529colForPCA$PHONEID <- NULL\n",
    "WifiTestNoNA529colForPCA$TIMESTAMP <- NULL"
   ]
  },
  {
   "cell_type": "code",
   "execution_count": 17,
   "metadata": {},
   "outputs": [],
   "source": [
    "# Converting data set into matrix for PCAs\n",
    "WifiTestForPCA <- as.matrix(WifiTestNoNA529colForPCA)"
   ]
  },
  {
   "cell_type": "code",
   "execution_count": 18,
   "metadata": {},
   "outputs": [],
   "source": [
    "# Matching the columns of Training and Valicdation Data for No PCAs\n",
    "WifiTestNoNA529colMatch <- WifiTestNoNA529col[,match(colnames(WifiTrainNoNA529col), colnames(WifiTestNoNA529col))]"
   ]
  },
  {
   "cell_type": "code",
   "execution_count": 19,
   "metadata": {},
   "outputs": [],
   "source": [
    "# Data set in validation with Location, User and time indormation for No PCAs\n",
    "WifiTestNoNA529colMatch <- as.data.frame(WifiTestNoNA529colMatch)\n",
    "WifiTestNoNA529colMatch$LATITUDE <-  WifiTestNoNA529col$LATITUDE\n",
    "WifiTestNoNA529colMatch$TIMESTAMP <-  WifiTestNoNA529col$TIMESTAMP\n",
    "WifiTestNoNA529colMatch$LONGITUDE <- WifiTestNoNA529col$LONGITUDE\n",
    "WifiTestNoNA529colMatch$SPACEID <-  as.character(WifiTestNoNA529col$SPACEID)\n",
    "WifiTestNoNA529colMatch$USERID <-  as.character(WifiTestNoNA529col$USERID)\n",
    "WifiTestNoNA529colMatch$PHONEID <-  as.character(WifiTestNoNA529col$PHONEID)\n",
    "WifiTestNoNA529colMatch$BUILDINGID <- as.character(WifiTestNoNA529col$BUILDINGID)\n",
    "WifiTestNoNA529colMatch$RELATIVEPOSITION <-as.character(WifiTestNoNA529col$RELATIVEPOSITION)\n",
    "WifiTestNoNA529colMatch$FLOOR <- as.character(WifiTestNoNA529col$FLOOR)"
   ]
  },
  {
   "cell_type": "markdown",
   "metadata": {},
   "source": [
    "## PCAs "
   ]
  },
  {
   "cell_type": "code",
   "execution_count": 20,
   "metadata": {},
   "outputs": [],
   "source": [
    "# Naming the rows of Training data\n",
    "rownames(WifiTrainForPCA) <- paste0(\"Observation\", 1:nrow(WifiTrainForPCA))"
   ]
  },
  {
   "cell_type": "code",
   "execution_count": 21,
   "metadata": {},
   "outputs": [],
   "source": [
    "# Computing PCA in Train Data\n",
    "PCATrain <- prcomp(WifiTrainForPCA, scale = TRUE)"
   ]
  },
  {
   "cell_type": "code",
   "execution_count": 22,
   "metadata": {},
   "outputs": [],
   "source": [
    "# Computing Variance and Standard deviation of PCs\n",
    "PCATrainVar <- PCATrain$sdev^2"
   ]
  },
  {
   "cell_type": "code",
   "execution_count": 23,
   "metadata": {},
   "outputs": [
    {
     "data": {
      "text/html": [
       "418.5"
      ],
      "text/latex": [
       "418.5"
      ],
      "text/markdown": [
       "418.5"
      ],
      "text/plain": [
       "[1] 418.5"
      ]
     },
     "metadata": {},
     "output_type": "display_data"
    },
    {
     "data": {
      "text/html": [
       "418.769994849042"
      ],
      "text/latex": [
       "418.769994849042"
      ],
      "text/markdown": [
       "418.769994849042"
      ],
      "text/plain": [
       "[1] 418.77"
      ]
     },
     "metadata": {},
     "output_type": "display_data"
    }
   ],
   "source": [
    "# Showing 90 % of variances and corresponding columns \n",
    "sum(PCATrainVar)*0.9\n",
    "sum(PCATrainVar[1:206])"
   ]
  },
  {
   "cell_type": "code",
   "execution_count": 24,
   "metadata": {},
   "outputs": [],
   "source": [
    "# Extracting df with 206 Principal Components for the Training set\n",
    "Train_PCs <- as.data.frame(PCATrain$x)\n",
    "Train_PCs_206 <- Train_PCs %>% select(1:206)"
   ]
  },
  {
   "cell_type": "code",
   "execution_count": 25,
   "metadata": {},
   "outputs": [],
   "source": [
    "# Extracting df with 206 Principal Components for the Validation set\n",
    "TEST_PCs <- as.data.frame(predict(PCATrain, newdata = WifiTestNoNA529colForPCA))\n",
    "TEST_PCs_206 <- TEST_PCs %>% select(1:206) "
   ]
  },
  {
   "cell_type": "markdown",
   "metadata": {},
   "source": [
    "## Modeling"
   ]
  },
  {
   "cell_type": "markdown",
   "metadata": {},
   "source": [
    "### Modeling for Longitude : For Longitude, PCA was applied"
   ]
  },
  {
   "cell_type": "code",
   "execution_count": 26,
   "metadata": {},
   "outputs": [],
   "source": [
    "# Setting the data\n",
    "Train_PCs_206$LONGITUDE <- WifiTrain$LONGITUDE\n",
    "TEST_PCs_206$LONGITUDE <- WifiTestNoNA529col$LONGITUDE"
   ]
  },
  {
   "cell_type": "code",
   "execution_count": 27,
   "metadata": {},
   "outputs": [],
   "source": [
    "# Splitting the data into training and testing set\n",
    "set.seed(123)\n",
    "Train_PCs_206_Sample <- Train_PCs_206[sample(1:nrow(Train_PCs_206),5000, replace = FALSE),]\n",
    "inTraining <- createDataPartition(Train_PCs_206_Sample$LONGITUDE, p = .75, list = FALSE)\n",
    "training <- Train_PCs_206_Sample[inTraining,]\n",
    "testing <- Train_PCs_206_Sample[-inTraining,]"
   ]
  },
  {
   "cell_type": "code",
   "execution_count": 28,
   "metadata": {},
   "outputs": [],
   "source": [
    "# Cross validation within training set\n",
    "fitControl <- trainControl(method = \"repeatedcv\", number = 5, repeats = 1)"
   ]
  },
  {
   "cell_type": "code",
   "execution_count": 29,
   "metadata": {},
   "outputs": [],
   "source": [
    "# Modeling for LONGITUDE with random forest\n",
    "rfGrid <- expand.grid(mtry = c(63))\n",
    "rfmodelLONGI <- train(LONGITUDE ~ ., data = training,method = \"rf\", tuneGrid = rfGrid, trControl = fitControl)"
   ]
  },
  {
   "cell_type": "markdown",
   "metadata": {},
   "source": [
    "### Prediction for Longitude "
   ]
  },
  {
   "cell_type": "code",
   "execution_count": 30,
   "metadata": {},
   "outputs": [],
   "source": [
    "# Pprediction for longitude with testing data\n",
    "rfPredictionModelLONGI <- predict(rfmodelLONGI, testing)"
   ]
  },
  {
   "cell_type": "code",
   "execution_count": 31,
   "metadata": {},
   "outputs": [
    {
     "data": {
      "text/html": [
       "<dl class=dl-horizontal>\n",
       "\t<dt>RMSE</dt>\n",
       "\t\t<dd>10.3040620366283</dd>\n",
       "\t<dt>Rsquared</dt>\n",
       "\t\t<dd>0.993246282175588</dd>\n",
       "\t<dt>MAE</dt>\n",
       "\t\t<dd>5.02708177371275</dd>\n",
       "</dl>\n"
      ],
      "text/latex": [
       "\\begin{description*}\n",
       "\\item[RMSE] 10.3040620366283\n",
       "\\item[Rsquared] 0.993246282175588\n",
       "\\item[MAE] 5.02708177371275\n",
       "\\end{description*}\n"
      ],
      "text/markdown": [
       "RMSE\n",
       ":   10.3040620366283Rsquared\n",
       ":   0.993246282175588MAE\n",
       ":   5.02708177371275\n",
       "\n"
      ],
      "text/plain": [
       "      RMSE   Rsquared        MAE \n",
       "10.3040620  0.9932463  5.0270818 "
      ]
     },
     "metadata": {},
     "output_type": "display_data"
    }
   ],
   "source": [
    "# Checking the accuracy of the model with testing set\n",
    "postResample(rfPredictionModelLONGI, testing$LONGITUDE)"
   ]
  },
  {
   "cell_type": "code",
   "execution_count": 32,
   "metadata": {},
   "outputs": [],
   "source": [
    "# Prediction for longitude with Valifation data\n",
    "rfPredictionLONGI <- predict(rfmodelLONGI, TEST_PCs_206)"
   ]
  },
  {
   "cell_type": "code",
   "execution_count": 33,
   "metadata": {},
   "outputs": [
    {
     "data": {
      "text/html": [
       "<dl class=dl-horizontal>\n",
       "\t<dt>RMSE</dt>\n",
       "\t\t<dd>10.8568033276822</dd>\n",
       "\t<dt>Rsquared</dt>\n",
       "\t\t<dd>0.992417314509996</dd>\n",
       "\t<dt>MAE</dt>\n",
       "\t\t<dd>7.3606276437125</dd>\n",
       "</dl>\n"
      ],
      "text/latex": [
       "\\begin{description*}\n",
       "\\item[RMSE] 10.8568033276822\n",
       "\\item[Rsquared] 0.992417314509996\n",
       "\\item[MAE] 7.3606276437125\n",
       "\\end{description*}\n"
      ],
      "text/markdown": [
       "RMSE\n",
       ":   10.8568033276822Rsquared\n",
       ":   0.992417314509996MAE\n",
       ":   7.3606276437125\n",
       "\n"
      ],
      "text/plain": [
       "      RMSE   Rsquared        MAE \n",
       "10.8568033  0.9924173  7.3606276 "
      ]
     },
     "metadata": {},
     "output_type": "display_data"
    }
   ],
   "source": [
    "# Checking the accuracy of the model with validation set\n",
    "postResample(rfPredictionLONGI, WifiTestNoNA529col$LONGITUDE)"
   ]
  },
  {
   "cell_type": "markdown",
   "metadata": {},
   "source": [
    "### Modeling for Floor : For Floor, Building and Latitude predition, PCA was not applied ####"
   ]
  },
  {
   "cell_type": "code",
   "execution_count": 34,
   "metadata": {},
   "outputs": [],
   "source": [
    "# Setting Data\n",
    "WifiTrainNoNAModeling <- WifiTrainNoNAWap\n",
    "WifiTrainNoNAModeling$FLOOR <- as.factor(WifiTrain$FLOOR)\n",
    "WifiTestNoNA529colMatch$FLOOR <- as.factor(WifiTestNoNA529col$FLOOR)"
   ]
  },
  {
   "cell_type": "code",
   "execution_count": 35,
   "metadata": {},
   "outputs": [],
   "source": [
    "# Splitting the data into Training and Testing\n",
    "set.seed(123)\n",
    "WifiTrainNoNAModeling_Sample <- WifiTrainNoNAModeling[sample(1:nrow(WifiTrainNoNAModeling), 5000, replace = FALSE),]\n",
    "inTraining <- createDataPartition(WifiTrainNoNAModeling_Sample$FLOOR, p = .75, list = FALSE)\n",
    "training <- WifiTrainNoNAModeling_Sample[inTraining,]\n",
    "testing <- WifiTrainNoNAModeling_Sample[-inTraining,]"
   ]
  },
  {
   "cell_type": "code",
   "execution_count": 36,
   "metadata": {},
   "outputs": [],
   "source": [
    "# Cross validation within training set\n",
    "fitControl <- trainControl(method = \"repeatedcv\", number = 5, repeats = 1)"
   ]
  },
  {
   "cell_type": "code",
   "execution_count": 37,
   "metadata": {},
   "outputs": [],
   "source": [
    "# Modeling for floor with RandomForest\n",
    "rfGrid <- expand.grid(mtry = c(63))\n",
    "rfFitModelFLOOR <- train(FLOOR~ ., data = training, method = \"rf\", trControl = fitControl, tuneGrid = rfGrid)"
   ]
  },
  {
   "cell_type": "markdown",
   "metadata": {},
   "source": [
    "### Prediction for Floor"
   ]
  },
  {
   "cell_type": "code",
   "execution_count": 38,
   "metadata": {},
   "outputs": [],
   "source": [
    "# Predicting for floor with test set\n",
    "rfPredictionmodelFLOOR <- predict(rfFitModelFLOOR, testing)"
   ]
  },
  {
   "cell_type": "code",
   "execution_count": 39,
   "metadata": {},
   "outputs": [],
   "source": [
    "# Converting data type into factor for confuion matrix   \n",
    "rfPredictionmodelFLOOR <- as.factor(rfPredictionmodelFLOOR)\n",
    "testing$FLOOR <- as.factor(testing$FLOOR)"
   ]
  },
  {
   "cell_type": "code",
   "execution_count": 40,
   "metadata": {},
   "outputs": [
    {
     "data": {
      "text/html": [
       "<dl class=dl-horizontal>\n",
       "\t<dt>Accuracy</dt>\n",
       "\t\t<dd>0.99599358974359</dd>\n",
       "\t<dt>Kappa</dt>\n",
       "\t\t<dd>0.994809589283798</dd>\n",
       "</dl>\n"
      ],
      "text/latex": [
       "\\begin{description*}\n",
       "\\item[Accuracy] 0.99599358974359\n",
       "\\item[Kappa] 0.994809589283798\n",
       "\\end{description*}\n"
      ],
      "text/markdown": [
       "Accuracy\n",
       ":   0.99599358974359Kappa\n",
       ":   0.994809589283798\n",
       "\n"
      ],
      "text/plain": [
       " Accuracy     Kappa \n",
       "0.9959936 0.9948096 "
      ]
     },
     "metadata": {},
     "output_type": "display_data"
    }
   ],
   "source": [
    "# Checking accuracy of the model\n",
    "postResample(rfPredictionmodelFLOOR, testing$FLOOR)"
   ]
  },
  {
   "cell_type": "code",
   "execution_count": 41,
   "metadata": {},
   "outputs": [],
   "source": [
    "# Prediction for floor with validation\n",
    "rfPredictionFLOOR <- predict(rfFitModelFLOOR, WifiTestNoNA529col)"
   ]
  },
  {
   "cell_type": "code",
   "execution_count": 42,
   "metadata": {},
   "outputs": [],
   "source": [
    "# Converting data type into factor for checking accuracy\n",
    "rfPredictionFLOOR <- as.factor(rfPredictionFLOOR)\n",
    "WifiTestNoNA529col$FLOOR <- as.factor(WifiTestNoNA529col$FLOOR)"
   ]
  },
  {
   "cell_type": "code",
   "execution_count": 43,
   "metadata": {},
   "outputs": [
    {
     "data": {
      "text/html": [
       "<dl class=dl-horizontal>\n",
       "\t<dt>Accuracy</dt>\n",
       "\t\t<dd>0.900990099009901</dd>\n",
       "\t<dt>Kappa</dt>\n",
       "\t\t<dd>0.862221590883468</dd>\n",
       "</dl>\n"
      ],
      "text/latex": [
       "\\begin{description*}\n",
       "\\item[Accuracy] 0.900990099009901\n",
       "\\item[Kappa] 0.862221590883468\n",
       "\\end{description*}\n"
      ],
      "text/markdown": [
       "Accuracy\n",
       ":   0.900990099009901Kappa\n",
       ":   0.862221590883468\n",
       "\n"
      ],
      "text/plain": [
       " Accuracy     Kappa \n",
       "0.9009901 0.8622216 "
      ]
     },
     "metadata": {},
     "output_type": "display_data"
    }
   ],
   "source": [
    "# Checking accuracy of the prediction\n",
    "postResample(rfPredictionFLOOR, WifiTestNoNA529col$FLOOR)"
   ]
  },
  {
   "cell_type": "code",
   "execution_count": 44,
   "metadata": {},
   "outputs": [
    {
     "data": {
      "text/plain": [
       "Confusion Matrix and Statistics\n",
       "\n",
       "          Reference\n",
       "Prediction   0   1   2   3   4\n",
       "         0 119   9   0   0   1\n",
       "         1   6 402   7   0   0\n",
       "         2   6  42 285   4   0\n",
       "         3   1   9  14 166   9\n",
       "         4   0   0   0   2  29\n",
       "\n",
       "Overall Statistics\n",
       "                                          \n",
       "               Accuracy : 0.901           \n",
       "                 95% CI : (0.8819, 0.9179)\n",
       "    No Information Rate : 0.4158          \n",
       "    P-Value [Acc > NIR] : < 2.2e-16       \n",
       "                                          \n",
       "                  Kappa : 0.8622          \n",
       "                                          \n",
       " Mcnemar's Test P-Value : NA              \n",
       "\n",
       "Statistics by Class:\n",
       "\n",
       "                     Class: 0 Class: 1 Class: 2 Class: 3 Class: 4\n",
       "Sensitivity            0.9015   0.8701   0.9314   0.9651   0.7436\n",
       "Specificity            0.9898   0.9800   0.9354   0.9649   0.9981\n",
       "Pos Pred Value         0.9225   0.9687   0.8457   0.8342   0.9355\n",
       "Neg Pred Value         0.9868   0.9138   0.9729   0.9934   0.9907\n",
       "Prevalence             0.1188   0.4158   0.2754   0.1548   0.0351\n",
       "Detection Rate         0.1071   0.3618   0.2565   0.1494   0.0261\n",
       "Detection Prevalence   0.1161   0.3735   0.3033   0.1791   0.0279\n",
       "Balanced Accuracy      0.9457   0.9250   0.9334   0.9650   0.8709"
      ]
     },
     "metadata": {},
     "output_type": "display_data"
    }
   ],
   "source": [
    "# Checking confusion matrix\n",
    "confusionMatrix(rfPredictionFLOOR, WifiTestNoNA529col$FLOOR)"
   ]
  },
  {
   "cell_type": "markdown",
   "metadata": {},
   "source": [
    "### Modeling for Building "
   ]
  },
  {
   "cell_type": "code",
   "execution_count": 45,
   "metadata": {},
   "outputs": [],
   "source": [
    "# Setting the data\n",
    "WifiTrainNoNAModeling$FLOOR <- NULL\n",
    "WifiTestNoNA529colMatch$FLOOR <- NULL\n",
    "WifiTrainNoNAModeling$BUILDINGID <- as.factor(WifiTrain$BUILDINGID)\n",
    "WifiTestNoNA529colMatch$BUILDINGID <- as.factor(WifiTestNoNA529col$BUILDINGID)"
   ]
  },
  {
   "cell_type": "code",
   "execution_count": 46,
   "metadata": {},
   "outputs": [],
   "source": [
    "# Splitting the data into train and test set\n",
    "set.seed(123)\n",
    "WifiTrainNoNAModeling_Sample <- WifiTrainNoNAModeling[sample(1:nrow(WifiTrainNoNAModeling), 5000, replace = FALSE),]\n",
    "inTraining <- createDataPartition(WifiTrainNoNAModeling_Sample$BUILDINGID, p = .75, list = FALSE)\n",
    "training <- WifiTrainNoNAModeling_Sample[inTraining,]\n",
    "testing <- WifiTrainNoNAModeling_Sample[-inTraining,]"
   ]
  },
  {
   "cell_type": "code",
   "execution_count": 47,
   "metadata": {},
   "outputs": [],
   "source": [
    "# Cross validation within training set\n",
    "fitControl <- trainControl(method = \"repeatedcv\", number = 5, repeats = 1)"
   ]
  },
  {
   "cell_type": "code",
   "execution_count": 48,
   "metadata": {},
   "outputs": [],
   "source": [
    "# RandomForest for BUILDING\n",
    "rfGrid <- expand.grid(mtry=c(63))\n",
    "rfFitModelBUILD <- train(BUILDINGID~ ., data = training, method = \"rf\", trControl = fitControl, tuneGrid = rfGrid)"
   ]
  },
  {
   "cell_type": "markdown",
   "metadata": {},
   "source": [
    "### Prediction for Building"
   ]
  },
  {
   "cell_type": "code",
   "execution_count": 49,
   "metadata": {},
   "outputs": [],
   "source": [
    "# Prediction for Building with test set\n",
    "rfPredictionmodelBUILD <- predict(rfFitModelBUILD, testing)"
   ]
  },
  {
   "cell_type": "code",
   "execution_count": 50,
   "metadata": {},
   "outputs": [],
   "source": [
    "# Converting data type into factor for confusion matrix\n",
    "rfPredictionmodelBUILD <- as.factor(rfPredictionmodelBUILD)\n",
    "testing$BUILDINGID <- as.factor(testing$BUILDINGID)"
   ]
  },
  {
   "cell_type": "code",
   "execution_count": 51,
   "metadata": {},
   "outputs": [
    {
     "data": {
      "text/html": [
       "<dl class=dl-horizontal>\n",
       "\t<dt>Accuracy</dt>\n",
       "\t\t<dd>0.996794871794872</dd>\n",
       "\t<dt>Kappa</dt>\n",
       "\t\t<dd>0.994964381472313</dd>\n",
       "</dl>\n"
      ],
      "text/latex": [
       "\\begin{description*}\n",
       "\\item[Accuracy] 0.996794871794872\n",
       "\\item[Kappa] 0.994964381472313\n",
       "\\end{description*}\n"
      ],
      "text/markdown": [
       "Accuracy\n",
       ":   0.996794871794872Kappa\n",
       ":   0.994964381472313\n",
       "\n"
      ],
      "text/plain": [
       " Accuracy     Kappa \n",
       "0.9967949 0.9949644 "
      ]
     },
     "metadata": {},
     "output_type": "display_data"
    }
   ],
   "source": [
    "# checking the accuracy of the model\n",
    "postResample(pred = rfPredictionmodelBUILD, obs = testing$BUILDINGID)"
   ]
  },
  {
   "cell_type": "code",
   "execution_count": 52,
   "metadata": {},
   "outputs": [],
   "source": [
    "# Prediction for building with validation set\n",
    "rfPredictionBUILD <- predict(rfFitModelBUILD, WifiTestNoNA529col)"
   ]
  },
  {
   "cell_type": "code",
   "execution_count": 53,
   "metadata": {},
   "outputs": [],
   "source": [
    "# Converting data type for confusion matrix \n",
    "rfPredictionBUILD <- as.factor(rfPredictionBUILD)\n",
    "WifiTestNoNA529col$BUILDINGID <- as.factor(WifiTestNoNA529col$BUILDINGID)"
   ]
  },
  {
   "cell_type": "code",
   "execution_count": 54,
   "metadata": {},
   "outputs": [
    {
     "data": {
      "text/html": [
       "<dl class=dl-horizontal>\n",
       "\t<dt>Accuracy</dt>\n",
       "\t\t<dd>0.993699369936994</dd>\n",
       "\t<dt>Kappa</dt>\n",
       "\t\t<dd>0.990056220647823</dd>\n",
       "</dl>\n"
      ],
      "text/latex": [
       "\\begin{description*}\n",
       "\\item[Accuracy] 0.993699369936994\n",
       "\\item[Kappa] 0.990056220647823\n",
       "\\end{description*}\n"
      ],
      "text/markdown": [
       "Accuracy\n",
       ":   0.993699369936994Kappa\n",
       ":   0.990056220647823\n",
       "\n"
      ],
      "text/plain": [
       " Accuracy     Kappa \n",
       "0.9936994 0.9900562 "
      ]
     },
     "metadata": {},
     "output_type": "display_data"
    },
    {
     "data": {
      "text/plain": [
       "Confusion Matrix and Statistics\n",
       "\n",
       "          Reference\n",
       "Prediction   0   1   2\n",
       "         0 530   1   0\n",
       "         1   6 306   0\n",
       "         2   0   0 268\n",
       "\n",
       "Overall Statistics\n",
       "                                          \n",
       "               Accuracy : 0.9937          \n",
       "                 95% CI : (0.9871, 0.9975)\n",
       "    No Information Rate : 0.4824          \n",
       "    P-Value [Acc > NIR] : < 2.2e-16       \n",
       "                                          \n",
       "                  Kappa : 0.9901          \n",
       "                                          \n",
       " Mcnemar's Test P-Value : NA              \n",
       "\n",
       "Statistics by Class:\n",
       "\n",
       "                     Class: 0 Class: 1 Class: 2\n",
       "Sensitivity            0.9888   0.9967   1.0000\n",
       "Specificity            0.9983   0.9925   1.0000\n",
       "Pos Pred Value         0.9981   0.9808   1.0000\n",
       "Neg Pred Value         0.9897   0.9987   1.0000\n",
       "Prevalence             0.4824   0.2763   0.2412\n",
       "Detection Rate         0.4770   0.2754   0.2412\n",
       "Detection Prevalence   0.4779   0.2808   0.2412\n",
       "Balanced Accuracy      0.9935   0.9946   1.0000"
      ]
     },
     "metadata": {},
     "output_type": "display_data"
    }
   ],
   "source": [
    "# Confusion matrix\n",
    "postResample(rfPredictionBUILD, WifiTestNoNA529col$BUILDINGID)\n",
    "confusionMatrix(rfPredictionBUILD, WifiTestNoNA529col$BUILDINGID)"
   ]
  },
  {
   "cell_type": "markdown",
   "metadata": {},
   "source": [
    "### Modeling for Latitude"
   ]
  },
  {
   "cell_type": "code",
   "execution_count": 55,
   "metadata": {},
   "outputs": [],
   "source": [
    "# Setting the data\n",
    "WifiTrainNoNAModeling$BUILDINGID <- NULL\n",
    "WifiTestNoNA529colMatch$BUILDINGID <- NULL \n",
    "WifiTestNoNA529colMatch$LATITUDE <-  WifiTestNoNA529col$LATITUDE\n",
    "WifiTrainNoNAModeling$LATITUDE <-  WifiTrain$LATITUDE"
   ]
  },
  {
   "cell_type": "code",
   "execution_count": 56,
   "metadata": {},
   "outputs": [],
   "source": [
    "# Splitting the data into training and testing\n",
    "set.seed(123)\n",
    "WifiTrainNoNAModeling_Sample <- WifiTrainNoNAModeling[sample(1:nrow(WifiTrainNoNAModeling),\n",
    "                                                             5000, replace = FALSE),]\n",
    "inTraining <- createDataPartition(WifiTrainNoNAModeling_Sample$LATITUDE, p = .75, list = FALSE)\n",
    "training <- WifiTrainNoNAModeling_Sample[inTraining,]\n",
    "testing <- WifiTrainNoNAModeling_Sample[-inTraining,]"
   ]
  },
  {
   "cell_type": "code",
   "execution_count": 57,
   "metadata": {},
   "outputs": [],
   "source": [
    "# Cross validation within training set\n",
    "fitControl <- trainControl(method = \"repeatedcv\", number = 5, repeats = 1)"
   ]
  },
  {
   "cell_type": "code",
   "execution_count": 58,
   "metadata": {},
   "outputs": [],
   "source": [
    "# Modeling for LATITUDE with random forest\n",
    "rfGrid <- expand.grid(mtry=c(63))\n",
    "rfmodelLat <- train(LATITUDE~ ., data = training, method = \"rf\", tuneGrid = rfGrid, trControl = fitControl)"
   ]
  },
  {
   "cell_type": "markdown",
   "metadata": {},
   "source": [
    "### Prediction for Latitude"
   ]
  },
  {
   "cell_type": "code",
   "execution_count": 59,
   "metadata": {},
   "outputs": [],
   "source": [
    "# Prediction for Latitude with testing set\n",
    "rfPredictionModelLat <- predict(rfmodelLat, testing)"
   ]
  },
  {
   "cell_type": "code",
   "execution_count": 60,
   "metadata": {},
   "outputs": [
    {
     "data": {
      "text/html": [
       "<dl class=dl-horizontal>\n",
       "\t<dt>RMSE</dt>\n",
       "\t\t<dd>7.05297691545942</dd>\n",
       "\t<dt>Rsquared</dt>\n",
       "\t\t<dd>0.98906943777846</dd>\n",
       "\t<dt>MAE</dt>\n",
       "\t\t<dd>3.91643113501257</dd>\n",
       "</dl>\n"
      ],
      "text/latex": [
       "\\begin{description*}\n",
       "\\item[RMSE] 7.05297691545942\n",
       "\\item[Rsquared] 0.98906943777846\n",
       "\\item[MAE] 3.91643113501257\n",
       "\\end{description*}\n"
      ],
      "text/markdown": [
       "RMSE\n",
       ":   7.05297691545942Rsquared\n",
       ":   0.98906943777846MAE\n",
       ":   3.91643113501257\n",
       "\n"
      ],
      "text/plain": [
       "     RMSE  Rsquared       MAE \n",
       "7.0529769 0.9890694 3.9164311 "
      ]
     },
     "metadata": {},
     "output_type": "display_data"
    }
   ],
   "source": [
    "# Checking the accuracy with testing set\n",
    "postResample(rfPredictionModelLat, testing$LATITUDE)"
   ]
  },
  {
   "cell_type": "code",
   "execution_count": 61,
   "metadata": {},
   "outputs": [],
   "source": [
    "# Prediction for Latitude with validation set\n",
    "rfPredictionLat <- predict(rfmodelLat, WifiTestNoNA529col)"
   ]
  },
  {
   "cell_type": "code",
   "execution_count": 62,
   "metadata": {},
   "outputs": [
    {
     "data": {
      "text/html": [
       "<dl class=dl-horizontal>\n",
       "\t<dt>RMSE</dt>\n",
       "\t\t<dd>11.9739333304459</dd>\n",
       "\t<dt>Rsquared</dt>\n",
       "\t\t<dd>0.973076057161624</dd>\n",
       "\t<dt>MAE</dt>\n",
       "\t\t<dd>7.77903572834431</dd>\n",
       "</dl>\n"
      ],
      "text/latex": [
       "\\begin{description*}\n",
       "\\item[RMSE] 11.9739333304459\n",
       "\\item[Rsquared] 0.973076057161624\n",
       "\\item[MAE] 7.77903572834431\n",
       "\\end{description*}\n"
      ],
      "text/markdown": [
       "RMSE\n",
       ":   11.9739333304459Rsquared\n",
       ":   0.973076057161624MAE\n",
       ":   7.77903572834431\n",
       "\n"
      ],
      "text/plain": [
       "      RMSE   Rsquared        MAE \n",
       "11.9739333  0.9730761  7.7790357 "
      ]
     },
     "metadata": {},
     "output_type": "display_data"
    }
   ],
   "source": [
    "# Checking the accuracy with validation set\n",
    "postResample(rfPredictionLat, WifiTestNoNA529col$LATITUDE)"
   ]
  },
  {
   "cell_type": "markdown",
   "metadata": {},
   "source": [
    "### Error distances"
   ]
  },
  {
   "cell_type": "code",
   "execution_count": 91,
   "metadata": {},
   "outputs": [
    {
     "data": {
      "text/html": [
       "12.1318516036594"
      ],
      "text/latex": [
       "12.1318516036594"
      ],
      "text/markdown": [
       "12.1318516036594"
      ],
      "text/plain": [
       "[1] 12.13185"
      ]
     },
     "metadata": {},
     "output_type": "display_data"
    }
   ],
   "source": [
    "Hypotenuse <- hypotenuse(PredictionDataFBLL$LATITUDE - ValidationDataFBLL$LATITUDE,PredictionDataFBLL$LONGITUDE - ValidationDataFBLL$LONGITUDE)\n",
    "mean(Hypotenuse)"
   ]
  },
  {
   "cell_type": "markdown",
   "metadata": {},
   "source": [
    "### Exporting prediction data"
   ]
  },
  {
   "cell_type": "code",
   "execution_count": 92,
   "metadata": {},
   "outputs": [],
   "source": [
    "# Creating data frame with prediction\n",
    "PredictionFBLL <- data.frame(rfPredictionFLOOR, rfPredictionBUILD, rfPredictionLONGI, rfPredictionLat) \n",
    "colnames(PredictionFBLL) <- c(\"FLOOR\", \"BUIDINGID\", \"LONGITUDE\", \"LATITUDE\")"
   ]
  },
  {
   "cell_type": "code",
   "execution_count": 93,
   "metadata": {},
   "outputs": [],
   "source": [
    "# Exporting the prediction\n",
    "write.csv(PredictionFBLL, file = \"C:/Users/spxt6/OneDrive/Dokumente/R_projects/Test.Proj/WIFI/PredictionFBLL.csv\", row.names = TRUE)"
   ]
  }
 ],
 "metadata": {
  "kernelspec": {
   "display_name": "R",
   "language": "R",
   "name": "ir"
  },
  "language_info": {
   "codemirror_mode": "r",
   "file_extension": ".r",
   "mimetype": "text/x-r-source",
   "name": "R",
   "pygments_lexer": "r",
   "version": "3.6.0"
  }
 },
 "nbformat": 4,
 "nbformat_minor": 2
}
